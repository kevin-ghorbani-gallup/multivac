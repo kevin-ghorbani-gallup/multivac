{
 "cells": [
  {
   "cell_type": "code",
   "execution_count": 1,
   "metadata": {},
   "outputs": [
    {
     "name": "stderr",
     "output_type": "stream",
     "text": [
      "Using TensorFlow backend.\n"
     ]
    }
   ],
   "source": [
    "from sentence_recognition import *"
   ]
  },
  {
   "cell_type": "code",
   "execution_count": 2,
   "metadata": {},
   "outputs": [],
   "source": [
    "filename = '../data/sentiment_labelled_sentences/amazon_cells_labelled.txt'\n",
    "lines = load_data(filename)"
   ]
  },
  {
   "cell_type": "code",
   "execution_count": 3,
   "metadata": {},
   "outputs": [],
   "source": [
    "lines = lines.split('\\n')\n",
    "lines = [line[:-2] for line in lines]\n",
    "lines = lines[0:-1]"
   ]
  },
  {
   "cell_type": "code",
   "execution_count": 4,
   "metadata": {},
   "outputs": [],
   "source": [
    "tokenized_lines = tokenize_words_in_sentences(lines)"
   ]
  },
  {
   "cell_type": "code",
   "execution_count": null,
   "metadata": {},
   "outputs": [],
   "source": []
  },
  {
   "cell_type": "code",
   "execution_count": null,
   "metadata": {},
   "outputs": [],
   "source": []
  },
  {
   "cell_type": "code",
   "execution_count": 16,
   "metadata": {},
   "outputs": [],
   "source": [
    "false_tokenized_lines = []\n",
    "for _ in range(len(tokenized_lines)):\n",
    "    false_tokenized_lines.append(corrupt_sentence_generator(tokenized_lines))"
   ]
  },
  {
   "cell_type": "markdown",
   "metadata": {},
   "source": [
    "ML inputs"
   ]
  },
  {
   "cell_type": "code",
   "execution_count": 17,
   "metadata": {},
   "outputs": [],
   "source": [
    "X = false_tokenized_lines + tokenized_lines\n",
    "y = [0 for _ in range(len(false_tokenized_lines))] + \\\n",
    "    [1 for _ in range(len(tokenized_lines))]"
   ]
  },
  {
   "cell_type": "code",
   "execution_count": 18,
   "metadata": {},
   "outputs": [],
   "source": [
    "from sklearn.model_selection import train_test_split\n",
    "X_train, X_test, y_train, y_test = train_test_split(X, y,\n",
    "                                                    test_size=0.1,\n",
    "                                                    random_state=42)"
   ]
  },
  {
   "cell_type": "markdown",
   "metadata": {},
   "source": [
    "Saving datasets"
   ]
  },
  {
   "cell_type": "code",
   "execution_count": 19,
   "metadata": {},
   "outputs": [
    {
     "name": "stdout",
     "output_type": "stream",
     "text": [
      "Saved: train_s0.pkl\n",
      "Saved: test_s0.pkl\n"
     ]
    }
   ],
   "source": [
    "save_dataset([X_train,y_train], 'train_s0.pkl')\n",
    "save_dataset([X_test,y_test], 'test_s0.pkl')"
   ]
  },
  {
   "cell_type": "markdown",
   "metadata": {},
   "source": [
    "Load saved datasets"
   ]
  },
  {
   "cell_type": "code",
   "execution_count": 20,
   "metadata": {},
   "outputs": [],
   "source": [
    "trainLines, trainLabels = load_dataset('train_s0.pkl')"
   ]
  },
  {
   "cell_type": "code",
   "execution_count": 21,
   "metadata": {},
   "outputs": [],
   "source": [
    "tokenizer = create_tokenizer(trainLines)"
   ]
  },
  {
   "cell_type": "code",
   "execution_count": 36,
   "metadata": {},
   "outputs": [
    {
     "name": "stdout",
     "output_type": "stream",
     "text": [
      "Max document length: 29\n",
      "Vocabulary size: 1725\n",
      "(1800, 29)\n"
     ]
    }
   ],
   "source": [
    "# calculate max document length\n",
    "length = max_length(trainLines)\n",
    "# calculate vocabulary size\n",
    "vocab_size = len(tokenizer.word_index) + 1\n",
    "print('Max document length: %d' % length)\n",
    "print('Vocabulary size: %d' % vocab_size)\n",
    "# encode data\n",
    "trainX = encode_text(tokenizer, trainLines, length)\n",
    "print(trainX.shape)"
   ]
  },
  {
   "cell_type": "code",
   "execution_count": 37,
   "metadata": {},
   "outputs": [
    {
     "name": "stdout",
     "output_type": "stream",
     "text": [
      "_________________________________________________________________\n",
      "Layer (type)                 Output Shape              Param #   \n",
      "=================================================================\n",
      "input_5 (InputLayer)         (None, 29)                0         \n",
      "_________________________________________________________________\n",
      "embedding_5 (Embedding)      (None, 29, 100)           172500    \n",
      "_________________________________________________________________\n",
      "conv1d_5 (Conv1D)            (None, 26, 32)            12832     \n",
      "_________________________________________________________________\n",
      "dropout_5 (Dropout)          (None, 26, 32)            0         \n",
      "_________________________________________________________________\n",
      "max_pooling1d_5 (MaxPooling1 (None, 13, 32)            0         \n",
      "_________________________________________________________________\n",
      "flatten_5 (Flatten)          (None, 416)               0         \n",
      "_________________________________________________________________\n",
      "dense_9 (Dense)              (None, 10)                4170      \n",
      "_________________________________________________________________\n",
      "dense_10 (Dense)             (None, 1)                 11        \n",
      "=================================================================\n",
      "Total params: 189,513\n",
      "Trainable params: 189,513\n",
      "Non-trainable params: 0\n",
      "_________________________________________________________________\n",
      "None\n",
      "Epoch 1/10\n",
      "1800/1800 [==============================] - 3s 2ms/step - loss: 0.6935 - acc: 0.5056\n",
      "Epoch 2/10\n",
      "1800/1800 [==============================] - 1s 681us/step - loss: 0.6581 - acc: 0.6722\n",
      "Epoch 3/10\n",
      "1800/1800 [==============================] - 1s 659us/step - loss: 0.4837 - acc: 0.7811\n",
      "Epoch 4/10\n",
      "1800/1800 [==============================] - 1s 666us/step - loss: 0.2883 - acc: 0.8839\n",
      "Epoch 5/10\n",
      "1800/1800 [==============================] - 1s 667us/step - loss: 0.1917 - acc: 0.9311\n",
      "Epoch 6/10\n",
      "1800/1800 [==============================] - 1s 671us/step - loss: 0.1227 - acc: 0.9611\n",
      "Epoch 7/10\n",
      "1800/1800 [==============================] - 1s 680us/step - loss: 0.0964 - acc: 0.9661\n",
      "Epoch 8/10\n",
      "1800/1800 [==============================] - 1s 678us/step - loss: 0.0704 - acc: 0.9722\n",
      "Epoch 9/10\n",
      "1800/1800 [==============================] - 1s 683us/step - loss: 0.0602 - acc: 0.9789\n",
      "Epoch 10/10\n",
      "1800/1800 [==============================] - 1s 681us/step - loss: 0.0506 - acc: 0.9817\n"
     ]
    }
   ],
   "source": [
    "# define model\n",
    "model = define_model(length, vocab_size)\n",
    "# fit model\n",
    "model.fit(trainX, np.array(trainLabels), epochs=10, batch_size=16)\n",
    "# save the model\n",
    "model.save('model_single_channel.h5')"
   ]
  },
  {
   "cell_type": "code",
   "execution_count": null,
   "metadata": {},
   "outputs": [],
   "source": []
  },
  {
   "cell_type": "markdown",
   "metadata": {},
   "source": [
    "Testing accuracy"
   ]
  },
  {
   "cell_type": "code",
   "execution_count": 39,
   "metadata": {},
   "outputs": [
    {
     "name": "stdout",
     "output_type": "stream",
     "text": [
      "Max document length: 29\n",
      "Vocabulary size: 1725\n",
      "(1800, 29) (200, 29)\n",
      "Train Accuracy: 99.444444\n",
      "Test Accuracy: 66.500000\n"
     ]
    }
   ],
   "source": [
    "from keras.models import load_model\n",
    "\n",
    "\n",
    "# load datasets\n",
    "trainLines, trainLabels = load_dataset('train_s0.pkl')\n",
    "testLines, testLabels = load_dataset('test_s0.pkl')\n",
    "\n",
    "# create tokenizer\n",
    "tokenizer = create_tokenizer(trainLines)\n",
    "# calculate max document length\n",
    "length = max_length(trainLines)\n",
    "# calculate vocabulary size\n",
    "vocab_size = len(tokenizer.word_index) + 1\n",
    "print('Max document length: %d' % length)\n",
    "print('Vocabulary size: %d' % vocab_size)\n",
    "# encode data\n",
    "trainX = encode_text(tokenizer, trainLines, length)\n",
    "testX = encode_text(tokenizer, testLines, length)\n",
    "print(trainX.shape, testX.shape)\n",
    "\n",
    "# load the model\n",
    "model = load_model('model_single_channel.h5')\n",
    "\n",
    "# evaluate model on training dataset\n",
    "loss, acc = model.evaluate(trainX, np.array(trainLabels), verbose=0)\n",
    "print('Train Accuracy: %f' % (acc*100))\n",
    "\n",
    "# evaluate model on test dataset dataset\n",
    "loss, acc = model.evaluate(testX, np.array(testLabels), verbose=0)\n",
    "print('Test Accuracy: %f' % (acc*100))"
   ]
  },
  {
   "cell_type": "code",
   "execution_count": 54,
   "metadata": {},
   "outputs": [],
   "source": [
    "def predictor(model, sentence, tokenized=False):\n",
    "    if not tokenized:\n",
    "        sentence_tmp = [tokenize_sentence(sentence)]\n",
    "    else:\n",
    "        sentence_tmp = sentence\n",
    "    score = model.predict(encode_text(tokenizer, sentence_tmp, length))[0]\n",
    "    if score > 0.5:\n",
    "        print('Sentence!')\n",
    "    else:\n",
    "        print('Not a sentence!')"
   ]
  },
  {
   "cell_type": "code",
   "execution_count": 55,
   "metadata": {},
   "outputs": [
    {
     "name": "stdout",
     "output_type": "stream",
     "text": [
      "Sentence!\n"
     ]
    }
   ],
   "source": [
    "predictor(model, 'This is a sentence.')"
   ]
  },
  {
   "cell_type": "code",
   "execution_count": 76,
   "metadata": {},
   "outputs": [
    {
     "name": "stdout",
     "output_type": "stream",
     "text": [
      "Not a sentence!\n"
     ]
    }
   ],
   "source": [
    "predictor(model, 'This a sentence.')"
   ]
  },
  {
   "cell_type": "code",
   "execution_count": 62,
   "metadata": {},
   "outputs": [
    {
     "name": "stdout",
     "output_type": "stream",
     "text": [
      "Pros anything Good but\n",
      "Not a sentence!\n"
     ]
    }
   ],
   "source": [
    "sentence_tmp = corrupt_sentence_generator(tokenized_lines)\n",
    "print(' '.join(word for word in sentence_tmp))\n",
    "predictor(model, sentence_tmp, True)"
   ]
  },
  {
   "cell_type": "code",
   "execution_count": 78,
   "metadata": {},
   "outputs": [
    {
     "ename": "TypeError",
     "evalue": "'function' object is not subscriptable",
     "output_type": "error",
     "traceback": [
      "\u001b[0;31m---------------------------------------------------------------------------\u001b[0m",
      "\u001b[0;31mTypeError\u001b[0m                                 Traceback (most recent call last)",
      "\u001b[0;32m<ipython-input-78-0178570ab85e>\u001b[0m in \u001b[0;36m<module>\u001b[0;34m\u001b[0m\n\u001b[0;32m----> 1\u001b[0;31m \u001b[0mtokenize_sentence\u001b[0m\u001b[0;34m[\u001b[0m\u001b[0;36m4\u001b[0m\u001b[0;34m]\u001b[0m\u001b[0;34m\u001b[0m\u001b[0;34m\u001b[0m\u001b[0m\n\u001b[0m",
      "\u001b[0;31mTypeError\u001b[0m: 'function' object is not subscriptable"
     ]
    }
   ],
   "source": [
    "tokenize_sentence"
   ]
  },
  {
   "cell_type": "code",
   "execution_count": null,
   "metadata": {},
   "outputs": [],
   "source": []
  }
 ],
 "metadata": {
  "kernelspec": {
   "display_name": "Python 3",
   "language": "python",
   "name": "python3"
  },
  "language_info": {
   "codemirror_mode": {
    "name": "ipython",
    "version": 3
   },
   "file_extension": ".py",
   "mimetype": "text/x-python",
   "name": "python",
   "nbconvert_exporter": "python",
   "pygments_lexer": "ipython3",
   "version": "3.6.8"
  }
 },
 "nbformat": 4,
 "nbformat_minor": 2
}
